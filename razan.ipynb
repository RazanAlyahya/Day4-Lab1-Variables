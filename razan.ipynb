{
 "cells": [
  {
   "cell_type": "code",
   "execution_count": 1,
   "id": "ff48f0fb",
   "metadata": {},
   "outputs": [],
   "source": [
    "season=\"winter\"\n",
    "x=20\n",
    "y=3.5\n",
    "d=e=4\n",
    "a,b,c=1,2,3\n"
   ]
  },
  {
   "cell_type": "code",
   "execution_count": null,
   "id": "fbd22785",
   "metadata": {},
   "outputs": [],
   "source": []
  }
 ],
 "metadata": {
  "kernelspec": {
   "display_name": "Python 3 (ipykernel)",
   "language": "python",
   "name": "python3"
  },
  "language_info": {
   "codemirror_mode": {
    "name": "ipython",
    "version": 3
   },
   "file_extension": ".py",
   "mimetype": "text/x-python",
   "name": "python",
   "nbconvert_exporter": "python",
   "pygments_lexer": "ipython3",
   "version": "3.9.13"
  }
 },
 "nbformat": 4,
 "nbformat_minor": 5
}
